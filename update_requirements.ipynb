{
 "cells": [
  {
   "cell_type": "code",
   "execution_count": 1,
   "metadata": {},
   "outputs": [],
   "source": [
    "import re\n",
    "import sys\n",
    "import requests\n",
    "import os\n",
    "from dotenv import load_dotenv\n"
   ]
  },
  {
   "cell_type": "code",
   "execution_count": 3,
   "metadata": {},
   "outputs": [],
   "source": [
    "apps = ['account', 'my_health_info', 'exercises_info', 'community', 'etc']\n",
    "\n",
    "load_dotenv()\n",
    "pat = os.environ['PAT']\n",
    "\n",
    "owner = \"orm-backend-final-project-2-2\"\n",
    "repo = \"final-project-server\"\n",
    "token = pat\n",
    "\n",
    "project_id = 2\n",
    "\n",
    "request_headers = {\n",
    "    \"Authorization\": f\"token {token}\",\n",
    "    \"Accept\": \"application/vnd.github.v3+json\"\n",
    "}\n",
    "\n",
    "asignee_map = {\n",
    "    'account': 'neysin',\n",
    "    'my_health_info': 'ZeyaKim',\n",
    "    'exercises_info': 'vin00',\n",
    "    'community': 'soohyun020812'\n",
    "}"
   ]
  },
  {
   "cell_type": "code",
   "execution_count": 4,
   "metadata": {},
   "outputs": [],
   "source": [
    "def create_markdown_table(req_info_list, req_attributes):\n",
    "    # 테이블 헤더 생성\n",
    "    headers = \"| \" + \" | \".join(req_attributes) + \" |\"\n",
    "    # 구분선 생성\n",
    "    separator = \"|-\" + \"-|\".join([\"-\" * len(attr) for attr in req_attributes]) + \"-|\"\n",
    "    # 테이블 본문 생성\n",
    "    rows = []\n",
    "    for req_info in req_info_list:\n",
    "        row = \"| \" + \" | \".join([req_info[attr] for attr in req_attributes]) + \" |\"\n",
    "        rows.append(row)\n",
    "    # 전체 테이블 합치기\n",
    "    table = \"\\n\".join([headers, separator] + rows)\n",
    "    return table"
   ]
  },
  {
   "cell_type": "code",
   "execution_count": 5,
   "metadata": {},
   "outputs": [],
   "source": [
    "def get_requirement_info(line, req_attributes):\n",
    "    \"\"\"line에서 requirement 정보를 추출해서 dict로 반환한다.\"\"\"\n",
    "\n",
    "    req_info = dict()\n",
    "    refined_line = [item.strip() for item in line.split(\"|\")[1:-1]]\n",
    "    for i, attr in enumerate(req_attributes):\n",
    "        req_info[attr] = refined_line[i]\n",
    "\n",
    "    return req_info"
   ]
  },
  {
   "cell_type": "code",
   "execution_count": 6,
   "metadata": {},
   "outputs": [],
   "source": [
    "def find_issue_by_label(label):\n",
    "    query = f\"label:{label}+repo:{owner}/{repo}+state:open\"\n",
    "    url = f\"https://api.github.com/search/issues?q={query}\"\n",
    "\n",
    "    response = requests.get(url, headers=request_headers)\n",
    "    \n",
    "    if response.status_code == 200:\n",
    "        count = response.json()['total_count']\n",
    "        print (f\"Found {count} issues with label '{label}'\")\n",
    "        if count == 1:\n",
    "            return response.json()['items'][0]['number']\n",
    "    else:\n",
    "        return None"
   ]
  },
  {
   "cell_type": "code",
   "execution_count": 8,
   "metadata": {},
   "outputs": [],
   "source": [
    "def create_label(label):\n",
    "    url = f\"https://api.github.com/repos/{owner}/{repo}/labels\"\n",
    "    data = {\n",
    "        \"name\": label,\n",
    "    }\n",
    "    \n",
    "    print(data)\n",
    "    \n",
    "    response = requests.post(url, headers=request_headers, json=data)\n",
    "    print(response.status_code)\n",
    "    if response.status_code == 201:\n",
    "        return label\n",
    "    else:\n",
    "        return None\n",
    "\n",
    "def get_or_create_label(label):\n",
    "    url = f\"https://api.github.com/repos/{owner}/{repo}/labels\"\n",
    "    data = {\n",
    "        \"name\": label,\n",
    "    }\n",
    "    \n",
    "    response = requests.get(url, headers=request_headers, json=data)\n",
    "    \n",
    "    if response.status_code == 200:\n",
    "        labels = response.json()  # 레이블 리스트 직접 접근\n",
    "        for l in labels:\n",
    "            if l[\"name\"] == label:\n",
    "                print(f\"Label '{label}' already exists.\")\n",
    "                return label\n",
    "\n",
    "    return create_label(label)\n",
    "    \n",
    "def create_milestone(milestone):\n",
    "    url = f\"https://api.github.com/repos/{owner}/{repo}/milestones\"\n",
    "    data = {\n",
    "        \"title\": milestone\n",
    "    }\n",
    "    \n",
    "    response = requests.post(url, headers=request_headers, json=data)\n",
    "    \n",
    "    if response.status_code == 201:\n",
    "        print (f\"Milestone '{milestone}' created successfully.\")\n",
    "        return response.json()[\"number\"]\n",
    "    else:\n",
    "        print (f\"Failed to create milestone '{milestone}'\")\n",
    "        return None\n",
    "    \n",
    "def get_or_create_milestone(milestone):\n",
    "    search_url = f\"https://api.github.com/repos/{owner}/{repo}/milestones\"\n",
    "    \n",
    "    response = requests.get(search_url, headers=request_headers)\n",
    "    \n",
    "    if response.status_code == 200:\n",
    "        milestones = response.json()\n",
    "\n",
    "        for m in milestones:\n",
    "            if m[\"title\"] == milestone:\n",
    "                print (f\"Milestone '{milestone}' already exists.\")\n",
    "                return m[\"number\"]\n",
    "    \n",
    "    return create_milestone(milestone)"
   ]
  },
  {
   "cell_type": "code",
   "execution_count": 9,
   "metadata": {},
   "outputs": [],
   "source": [
    "def update_issue_by_id(issue_id, body):\n",
    "    url = f\"https://api.github.com/repos/{owner}/{repo}/issues/{issue_id}\"\n",
    "    \n",
    "    issue = {\n",
    "        \"body\": body\n",
    "    }\n",
    "    \n",
    "    response = requests.patch(url, headers=request_headers, json=issue)\n",
    "    \n",
    "    if response.status_code == 200:\n",
    "        return f\"Successfully updated an issue: {issue_id}\"\n",
    "    else:\n",
    "        return None\n",
    "    \n",
    "def create_issue(app_name, title, label, milestone, body):\n",
    "    url = f\"https://api.github.com/repos/{owner}/{repo}/issues\"\n",
    "\n",
    "    milestone = get_or_create_milestone(milestone)\n",
    "    label = get_or_create_label(label)\n",
    "\n",
    "    issue = {\n",
    "        \"title\": title,\n",
    "        \"body\": body,\n",
    "        \"assignees\": [asignee_map[app_name]],\n",
    "        \"milestone\": milestone,\n",
    "        \"labels\": [label, 'requirement']\n",
    "    }\n",
    "    \n",
    "    print(issue)\n",
    "    \n",
    "    response = requests.post(url, headers=request_headers, json=issue)\n",
    "    if response.status_code == 201:\n",
    "        print(f\"Successfully created an issue: {title}\")\n",
    "    else:\n",
    "        print(f\"Failed to create an issue: {response.status_code}\")\n",
    "        return None"
   ]
  },
  {
   "cell_type": "code",
   "execution_count": 10,
   "metadata": {},
   "outputs": [],
   "source": [
    "def update_issue(app_name, issue_title, label, milestone_name, issue_body):\n",
    "    issue_id = find_issue_by_label(label)\n",
    "    if issue_id:\n",
    "        print(f\"Found an issue: {issue_id}\")\n",
    "        update_issue_by_id(issue_id, issue_body)\n",
    "    else:\n",
    "        print(\"No issue found.\")\n",
    "        create_issue(app_name, issue_title, label, milestone_name, issue_body)"
   ]
  },
  {
   "cell_type": "code",
   "execution_count": 11,
   "metadata": {},
   "outputs": [],
   "source": [
    "def update_app_requirements(app_name, req_file):\n",
    "    \"\"\"req_file을 읽어서 정보를 map에 저장하고 app_name에 해당하는 issue를 찾아서 업데이트한다.\"\"\"\n",
    "\n",
    "    with open(req_file, \"r\", encoding=\"utf-8\") as f:\n",
    "        lines = f.readlines()\n",
    "        \n",
    "        req_attributes = [attribute.strip() for attribute in lines[2].split(\"|\")[1:-1]]\n",
    "\n",
    "        app_requirements_info = dict()\n",
    "\n",
    "        for line in lines[4:]:\n",
    "            if line.startswith(\"|\"):\n",
    "                req_info = get_requirement_info(line, req_attributes)\n",
    "                if req_info[\"Feature\"] != \"\":\n",
    "                    current_feature = req_info[\"Feature\"]\n",
    "                    app_requirements_info[current_feature] = []\n",
    "                app_requirements_info[current_feature].append(req_info)\n",
    "\n",
    "        for feature in app_requirements_info:\n",
    "            issue_title = f\"REQ-{app_name}-{feature}\"\n",
    "            label = f\"{app_name}-{feature}\"\n",
    "            milestone_name = f\"{app_name}-requirements\"\n",
    "            issue_body = create_markdown_table(\n",
    "                app_requirements_info[feature], req_attributes\n",
    "            )\n",
    "\n",
    "            update_issue(app_name, issue_title, label, milestone_name, issue_body)"
   ]
  },
  {
   "cell_type": "code",
   "execution_count": 12,
   "metadata": {},
   "outputs": [
    {
     "name": "stdout",
     "output_type": "stream",
     "text": [
      "Found 1 issues with label 'account-로그인'\n",
      "Found an issue: 8\n",
      "Found 1 issues with label 'account-회원가입'\n",
      "Found an issue: 9\n",
      "Found 1 issues with label 'account-로그아웃'\n",
      "Found an issue: 10\n",
      "Found 0 issues with label 'account-프로필 페이지'\n",
      "No issue found.\n",
      "Milestone 'account-requirements' already exists.\n",
      "Label 'account-프로필 페이지' already exists.\n",
      "{'title': 'REQ-account-프로필 페이지', 'body': '| Feature | Name | Description | Functional | Priority |\\n|---------|-----|------------|-----------|---------|\\n| 프로필 페이지 | 프로필 페이지 이동 | 로그인한 사용자는 프로필 페이지에서 자신의 정보를 요청 할 수 있다. | 기능 | 1 |\\n|  | 프로필 페이지 표시 | 로그인한 사용자는 프로필 페이지에 자신의 프로필 사진, username, email을 볼 수 있다. | 기능 | 1 |\\n|  | 프로필 페이지 수정 | 로그인한 사용자는 프로필 페이지에서 자신의 프로필 사진, username을 수정할 수 있다. | 기능 | 1 |\\n|  | 프로필 페이지 수정 실패 by 중복 username | 사용자가 이미 등록된 username으로 프로필 수정을 시도했을 시 실패한다. | 기능 | 1 |\\n|  | 프로필 페이지 수정 실패 by username 형식 | 사용자가 형식을 충족하지 않는 username으로 프로필 수정을 시도했을 시 실패한다. | 기능 | 2 |\\n|  | 프로필 페이지 수정 실패 by username 길이 | 사용자가 일정 길이 이상의 username으로 프로필 수정을 시도했을 시 실패한다. | 기능 | 2 |\\n|  | 프로필 페이지 수정 성공 | 사용자가 프로필 수정 양식을 모두 만족한 상태로 프로필 수정을 시도했을 시 성공한다. | 기능 | 1 |\\n|  | 프로필 페이지 수정 성공 시 프로필 페이지 | 사용자가 프로필 수정에 성공했을 시 프로필 페이지로 이동한다. | 기능 | 2 |\\n|  | 프로필 페이지 접근 권한 검사 | 로그인한 사용자만이 프로필 페이지에 접근할 수 있다. | 기능 | 1 |\\n|  | 프로필 페이지 접근 권한 실패 | 로그인하지 않은 사용자가 프로필 페이지에 접근하려 시도했을 시 접근에 실패한다. | 기능 | 1 |\\n|  | 타인 프로필 페이지 접근 실패 | 사용자가 타인의 프로필 페이지에 접근하려 시도했을 시 접근에 실패한다. | 기능 | 1 |\\n|  | 비밀번호 재설정 | 사용자는 비밀번호 재설정을 요청할 수 있다. | 기능 | 3 |\\n|  | 비밀번호 재설정 이메일 전송 | 사용자가 비밀번호 재설정을 요청했을 시 이메일로 재설정 링크를 전송한다. | 기능 | 3 |\\n|  | 비밀번호 재설정 페이지 이동 | 사용자는 비밀번호 재설정 페이지에서 새로운 비밀번호로 비밀번호 재설정 요청을 할 수 있다. | 기능 | 3 |\\n|  | 비밀번호 재설정 실패 by pw 형식 | 사용자가 특정 형식을 충족하지 않는 비밀번호로 비밀번호 재설정을 시도했을 시 실패한다. | 기능 | 3 |\\n|  | 비밀번호 재설정 실패 by pw 길이 | 사용자가 일정 길이 이상의 비밀번호로 비밀번호 재설정을 시도했을 시 실패한다. | 기능 | 3 |\\n|  | 비밀번호 재설정 성공 | 사용자가 비밀번호 재설정 양식을 모두 만족한 상태로 비밀번호 재설정을 시도했을 시 성공한다. | 기능 | 3 |\\n|  | 비밀번호 재설정 성공 시 로그인 페이지 | 사용자가 비밀번호 재설정에 성공했을 시 로그인 페이지로 이동한다. | 기능 | 3 |\\n|  | 회원탈퇴 시도 | 사용자는 자신의 비밀번호와 함꼐 회원탈퇴를 요청할 수 있다. | 기능 | 2 |\\n|  | 회원탈퇴 실패 by 로그인 상태 | 로그인 상태가 아닌 사용자가 회원탈퇴를 시도했을 시 실패한다. | 기능 | 2 |\\n|  | 회원탈퇴 실패 by wrong pw | 사용자가 자신의 비밀번호를 틀리게 입력하여 회원탈퇴를 시도했을 시 실패한다. | 기능 | 2 |\\n|  | 회원탈퇴 성공 | 사용자가 자신의 비밀번호를 정확히 입력하여 회원탈퇴를 시도했을 시 성공한다. | 기능 | 2 |\\n|  | 회원탈퇴 성공 시 홈 페이지 | 사용자가 회원탈퇴에 성공했을 시 홈 페이지로 이동한다. | 기능 | 2 |\\n|  | 회원탈퇴 실패 by 타인 요청 | 타인이 회원탈퇴를 요청했을 시 실패한다. | 기능 | 2 |', 'assignees': ['neysin'], 'milestone': 7, 'labels': ['account-프로필 페이지', 'requirement']}\n",
      "Successfully created an issue: REQ-account-프로필 페이지\n"
     ]
    }
   ],
   "source": [
    "app_name = 'account'\n",
    "req_file = f\"docs/requirements/{app_name}_requirements.md\"\n",
    "update_app_requirements(app_name, req_file)"
   ]
  },
  {
   "cell_type": "code",
   "execution_count": null,
   "metadata": {},
   "outputs": [],
   "source": [
    "app_name = 'exercises_info'\n",
    "req_file = f\"docs/requirements/{app_name}_requirements.md\"\n",
    "update_app_requirements(app_name, req_file)"
   ]
  },
  {
   "cell_type": "code",
   "execution_count": 13,
   "metadata": {},
   "outputs": [
    {
     "name": "stdout",
     "output_type": "stream",
     "text": [
      "Found 0 issues with label 'my_health_info-내 건강 페이지'\n",
      "No issue found.\n",
      "Milestone 'my_health_info-requirements' already exists.\n",
      "{'name': 'my_health_info-내 건강 페이지'}\n",
      "201\n",
      "{'title': 'REQ-my_health_info-내 건강 페이지', 'body': '| Feature | Name | Description | Functional | Priority |\\n|---------|-----|------------|-----------|---------|\\n| 내 건강 페이지 | 내 건강 페이지 | 사용자는 운동 정보 페이지로 이동할 수 있다. | 기능 | 1 |\\n|  | 내 건강 페이지     권한 | 로그인한 사용자만이 운동 정보 페이지에 접근할 수 있다. | 기능 | 1 |\\n|  | 내 건강 페이지 only 본인 | 사용자는 자신의 건강 정보만 확인할 수 있다. | 기능 | 1 |\\n|  | 비로그인 유저 접근 처리 | 로그인하지 않은 사용자가 운동 정보 페이지에 접근하려 시도했을 시 로그인 페이지로 이동한다. | 기능 | 1 |\\n|  | 오늘의 루틴 확인 | 사용자는 운동 정보 페이지에서 오늘의 루틴을 확인할 수 있다. | 기능 | 1 |\\n|  | 운동 스트릭 확인 | 사용자는 운동 정보 페이지에서 운동 스트릭을 확인할 수 있다. | 기능 | 1 |\\n|  | 내 건강 정보 확인 | 사용자는 운동 정보 페이지에서 내 건강 정보를 확인할 수 있다. | 기능 | 1 |', 'assignees': ['ZeyaKim'], 'milestone': 8, 'labels': ['my_health_info-내 건강 페이지', 'requirement']}\n",
      "Successfully created an issue: REQ-my_health_info-내 건강 페이지\n",
      "Found 0 issues with label 'my_health_info-오늘의 루틴'\n",
      "No issue found.\n",
      "Milestone 'my_health_info-requirements' already exists.\n",
      "Label 'my_health_info-오늘의 루틴' already exists.\n",
      "{'title': 'REQ-my_health_info-오늘의 루틴', 'body': '| Feature | Name | Description | Functional | Priority |\\n|---------|-----|------------|-----------|---------|\\n| 오늘의 루틴 | 오늘의 루틴 확인 | 사용자는 오늘의 루틴에 대한 자세한 정보를 확인할 수 있다. | 기능 | 1 |\\n|  | 오늘의 루틴 시작 | 사용자는 오늘의 루틴을 시작할 수 있다. | 기능 | 1 |\\n|  | 활동 체크 | 사용자는 오늘의 루틴을 진행하며 활동을 체크할 수 있다. | 기능 | 1 |\\n|  | 루틴 완료 | 사용자는 오늘의 루틴에 저장된 활동을 모두 체크하여 루틴을 완료할 수 있다. | 기능 | 1 |', 'assignees': ['ZeyaKim'], 'milestone': 8, 'labels': ['my_health_info-오늘의 루틴', 'requirement']}\n",
      "Successfully created an issue: REQ-my_health_info-오늘의 루틴\n",
      "Found 0 issues with label 'my_health_info-내 건강 정보'\n",
      "No issue found.\n",
      "Milestone 'my_health_info-requirements' already exists.\n",
      "Label 'my_health_info-내 건강 정보' already exists.\n",
      "{'title': 'REQ-my_health_info-내 건강 정보', 'body': '| Feature | Name | Description | Functional | Priority |\\n|---------|-----|------------|-----------|---------|\\n| 내 건강 정보 | 내 건강 정보 확인 | 사용자는 내 건강 정보를 확인할 수 있다. | 기능 | 1 |\\n|  | 새 건강 정보 생성 | 사용자는 새 정보를 입력하여 내 건강 정보를 수정할 수 있다. | 기능 | 1 |\\n|  | 새 건강 정보 생성 권한 | 로그인한 사용자만이 내 건강 정보를 수정할 수 있다. | 기능 | 1 |\\n|  | 새 건강 정보 생성 실패 by 형식 | 사용자가 특정 형식을 충족하지 않는 정보로 내 건강 정보를 수정하려 시도했을 시 실패한다. | 기능 | 2 |\\n|  | 내 건강 정보 수정 only 본인 | 사용자는 자신의 건강 정보만 수정할 수 있다. | 기능 | 1 |\\n|  | 건강 정보 갱신 요청 주기 | 건강 정보를 수정한 사용자는 다음 날 전까지 건강 정보를 수정할 수 없다. | 비기능 | 2 |', 'assignees': ['ZeyaKim'], 'milestone': 8, 'labels': ['my_health_info-내 건강 정보', 'requirement']}\n",
      "Successfully created an issue: REQ-my_health_info-내 건강 정보\n"
     ]
    }
   ],
   "source": [
    "app_name = 'my_health_info'\n",
    "req_file = f\"docs/requirements/{app_name}_requirements.md\"\n",
    "update_app_requirements(app_name, req_file)"
   ]
  },
  {
   "cell_type": "code",
   "execution_count": null,
   "metadata": {},
   "outputs": [],
   "source": [
    "app_name = 'community'\n",
    "req_file = f\"docs/requirements/{app_name}_requirements.md\"\n",
    "update_app_requirements(app_name, req_file)"
   ]
  }
 ],
 "metadata": {
  "kernelspec": {
   "display_name": "Python 3",
   "language": "python",
   "name": "python3"
  },
  "language_info": {
   "codemirror_mode": {
    "name": "ipython",
    "version": 3
   },
   "file_extension": ".py",
   "mimetype": "text/x-python",
   "name": "python",
   "nbconvert_exporter": "python",
   "pygments_lexer": "ipython3",
   "version": "3.11.0"
  }
 },
 "nbformat": 4,
 "nbformat_minor": 2
}
